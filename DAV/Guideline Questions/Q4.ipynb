{
 "cells": [
  {
   "cell_type": "markdown",
   "metadata": {},
   "source": [
    "### Q4. Consider two excel files having attendance of a workshop's participants for two days. Each file has three fields 'Name', 'Time of joining', duration (in minutes) where names are unique within a file. Note that duration may take one of three values (30, 40, 50) only. Import the data into two dataframes and do the following:"
   ]
  },
  {
   "cell_type": "markdown",
   "metadata": {},
   "source": [
    "a.  Perform merging of the two dataframes to find the names of students who had attended the workshop on both days."
   ]
  },
  {
   "cell_type": "code",
   "execution_count": 17,
   "metadata": {},
   "outputs": [
    {
     "name": "stdout",
     "output_type": "stream",
     "text": [
      "Students attending on both days:\n",
      "0      Alice\n",
      "1    Charlie\n",
      "Name: Name, dtype: object\n"
     ]
    }
   ],
   "source": [
    "import pandas as pd\n",
    "\n",
    "# Load data from Excel files into two dataframes\n",
    "file1 = 'workshop_day1.xlsx'\n",
    "file2 = 'workshop_day2.xlsx'\n",
    "\n",
    "df1 = pd.read_excel(file1)\n",
    "df2 = pd.read_excel(file2)\n",
    "\n",
    "# Perform an inner merge to find names attending on both days\n",
    "common_attendees = pd.merge(df1, df2, on='Name', how='inner')['Name']\n",
    "print(f\"Students attending on both days:\\n{common_attendees}\")"
   ]
  },
  {
   "cell_type": "markdown",
   "metadata": {},
   "source": [
    "b.  Find names of all students who have attended workshop on either of the days."
   ]
  },
  {
   "cell_type": "code",
   "execution_count": 18,
   "metadata": {},
   "outputs": [
    {
     "name": "stdout",
     "output_type": "stream",
     "text": [
      "Students attending on either day:\n",
      "0      Alice\n",
      "1        Bob\n",
      "2    Charlie\n",
      "3      David\n",
      "4        Eve\n",
      "5      Frank\n",
      "Name: Name, dtype: object\n"
     ]
    }
   ],
   "source": [
    "# Perform an outer merge to find names attending on either day\n",
    "all_attendees = pd.merge(df1, df2, on='Name', how='outer')['Name']\n",
    "print(f\"Students attending on either day:\\n{all_attendees}\")"
   ]
  },
  {
   "cell_type": "markdown",
   "metadata": {},
   "source": [
    "c.  Merge two data frames row-wise and find the total number of records in the data frame."
   ]
  },
  {
   "cell_type": "code",
   "execution_count": 19,
   "metadata": {},
   "outputs": [
    {
     "name": "stdout",
     "output_type": "stream",
     "text": [
      "\n",
      "Total number of records in the merged dataframe: 8\n"
     ]
    }
   ],
   "source": [
    "# Concatenate the dataframes row-wise\n",
    "merged_df = pd.concat([df1, df2], ignore_index=True)\n",
    "\n",
    "# Count the total number of records\n",
    "total_records = len(merged_df)\n",
    "print(\"\\nTotal number of records in the merged dataframe:\", total_records)\n"
   ]
  },
  {
   "cell_type": "markdown",
   "metadata": {},
   "source": [
    "d.  Merge two data frames and use two columns names and duration as multi-row indexes. Generate descriptive statistics for this multi-index."
   ]
  },
  {
   "cell_type": "code",
   "execution_count": 20,
   "metadata": {},
   "outputs": [
    {
     "name": "stdout",
     "output_type": "stream",
     "text": [
      "Descriptive statistics for the multi-index:\n",
      "                 Time of joining_x                       Time of joining_y  \\\n",
      "                             count unique       top freq             count   \n",
      "Name    duration                                                             \n",
      "Alice   30                       1      1  09:00 AM    1                 1   \n",
      "Charlie 30                       1      1  09:30 AM    1                 1   \n",
      "\n",
      "                                        \n",
      "                 unique       top freq  \n",
      "Name    duration                        \n",
      "Alice   30            1  09:00 AM    1  \n",
      "Charlie 30            1  09:30 AM    1  \n"
     ]
    }
   ],
   "source": [
    "# Merge the dataframes using 'Name' and 'duration' as multi-index\n",
    "multi_index_df = pd.merge(df1, df2, on=['Name', 'duration'], how='inner')\n",
    "\n",
    "# Generate descriptive statistics\n",
    "statistics = multi_index_df.groupby(['Name', 'duration']).describe()\n",
    "\n",
    "# Display the statistics\n",
    "print(f\"Descriptive statistics for the multi-index:\\n{statistics}\")"
   ]
  }
 ],
 "metadata": {
  "kernelspec": {
   "display_name": "Python 3",
   "language": "python",
   "name": "python3"
  },
  "language_info": {
   "codemirror_mode": {
    "name": "ipython",
    "version": 3
   },
   "file_extension": ".py",
   "mimetype": "text/x-python",
   "name": "python",
   "nbconvert_exporter": "python",
   "pygments_lexer": "ipython3",
   "version": "3.10.6"
  }
 },
 "nbformat": 4,
 "nbformat_minor": 2
}
